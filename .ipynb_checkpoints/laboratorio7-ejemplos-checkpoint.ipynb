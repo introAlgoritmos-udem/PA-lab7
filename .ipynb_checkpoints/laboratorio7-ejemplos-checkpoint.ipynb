{
 "cells": [
  {
   "cell_type": "markdown",
   "id": "cdc1baa4",
   "metadata": {},
   "source": [
    "[![Open In Colab](https://colab.research.google.com/assets/colab-badge.svg)](https://colab.research.google.com/github/introAlgoritmos-udem/PA-lab7/blob/main/laboratorio7-ejemplos.ipynb)"
   ]
  },
  {
   "cell_type": "markdown",
   "id": "9342b411",
   "metadata": {},
   "source": [
    "# Matrices\n",
    "\n",
    "## Definición\n",
    "\n",
    "Una matriz es una estructura en forma de cuadrícula (un casillero rectangular) conformado por filas y columnas\n",
    "\n",
    "![matriz.jpg](matriz.jpg)\n",
    "\n",
    "Para referirnos a algún dato en el casillero debemos referenciarlo usando fila y columna. Asi, por ejemplo si deseamos acceder a un elemento que se encuentra en la fila ```i``` y en la columna ```j``` de una matrix llamada ```mat```, entonces la instrucción para acceder a este es:\n",
    "\n",
    "```python\n",
    "mat[i][j]\n",
    "```"
   ]
  },
  {
   "cell_type": "markdown",
   "id": "29ddf57c",
   "metadata": {},
   "source": [
    "## Inicializando una matrix\n",
    "\n",
    "### Inicializando una matrix con ceros\n",
    "\n",
    "![matriz2.jpg](matriz2.jpg)\n"
   ]
  },
  {
   "cell_type": "code",
   "execution_count": 1,
   "id": "84a4a526",
   "metadata": {},
   "outputs": [
    {
     "name": "stdout",
     "output_type": "stream",
     "text": [
      "[[0, 0, 0, 0, 0, 0, 0, 0], [0, 0, 0, 0, 0, 0, 0, 0], [0, 0, 0, 0, 0, 0, 0, 0], [0, 0, 0, 0, 0, 0, 0, 0], [0, 0, 0, 0, 0, 0, 0, 0], [0, 0, 0, 0, 0, 0, 0, 0]]\n"
     ]
    }
   ],
   "source": [
    "# Forma 1\n",
    "FILAS = 6\n",
    "COLUMNAS = 8\n",
    "mat = []*FILAS\n",
    "for i in range(FILAS):\n",
    "    a = [0]*COLUMNAS\n",
    "    mat += [a]\n",
    "    \n",
    "print(mat)"
   ]
  },
  {
   "cell_type": "code",
   "execution_count": 4,
   "id": "ec0f9b30",
   "metadata": {},
   "outputs": [
    {
     "name": "stdout",
     "output_type": "stream",
     "text": [
      "[[0, 0, 0, 0, 0, 0, 0, 0], [0, 0, 0, 0, 0, 0, 0, 0], [0, 0, 0, 0, 0, 0, 0, 0], [0, 0, 0, 0, 0, 0, 0, 0], [0, 0, 0, 0, 0, 0, 0, 0], [0, 0, 0, 0, 0, 0, 0, 0]]\n"
     ]
    }
   ],
   "source": [
    "# Forma 2\n",
    "FILAS = 6\n",
    "COLUMNAS = 8\n",
    "mat = []\n",
    "for i in range(FILAS):\n",
    "    fila = []\n",
    "    for j in range(COLUMNAS):\n",
    "        fila += [0]\n",
    "    mat += [fila]\n",
    "    fila = []\n",
    "    \n",
    "print(mat)"
   ]
  },
  {
   "cell_type": "markdown",
   "id": "323f6552",
   "metadata": {},
   "source": [
    "## Ejemplos"
   ]
  },
  {
   "cell_type": "markdown",
   "id": "fa4aa054",
   "metadata": {},
   "source": [
    "#### Ejemplo 1\n",
    "\n",
    "Hacer una función que llene una matriz de N filas por M columnas con un mismo valor."
   ]
  },
  {
   "cell_type": "code",
   "execution_count": null,
   "id": "e91b38a1",
   "metadata": {},
   "outputs": [],
   "source": []
  },
  {
   "cell_type": "markdown",
   "id": "8ecca878",
   "metadata": {},
   "source": [
    "#### Ejemplo 2\n",
    "\n",
    "Hacer una función que imprima una matriz."
   ]
  },
  {
   "cell_type": "code",
   "execution_count": null,
   "id": "7b027c27",
   "metadata": {},
   "outputs": [],
   "source": []
  },
  {
   "cell_type": "markdown",
   "id": "1eb86512",
   "metadata": {},
   "source": [
    "#### Ejemplo 3\n",
    "\n",
    "Hacer una función que returne una fila cualquiera de una matriz"
   ]
  },
  {
   "cell_type": "code",
   "execution_count": null,
   "id": "ef979b15",
   "metadata": {},
   "outputs": [],
   "source": []
  },
  {
   "cell_type": "markdown",
   "id": "6025c59c",
   "metadata": {},
   "source": [
    "#### Ejemplo 4\n",
    "\n",
    "Hacer una función que returne una columna cualquiera de una matriz"
   ]
  },
  {
   "cell_type": "code",
   "execution_count": null,
   "id": "703d594d",
   "metadata": {},
   "outputs": [],
   "source": []
  },
  {
   "cell_type": "markdown",
   "id": "9186567c",
   "metadata": {},
   "source": [
    "#### Ejemplo 5\n",
    "\n",
    "Hacer una función que obtenga la diagonal de una matriz"
   ]
  },
  {
   "cell_type": "code",
   "execution_count": null,
   "id": "f85f9d88",
   "metadata": {},
   "outputs": [],
   "source": []
  },
  {
   "cell_type": "markdown",
   "id": "04e4d059",
   "metadata": {},
   "source": [
    "#### Ejemplo 6\n",
    "\n",
    "Hacer una función que debuelva la suma de todos los elementos de una matriz"
   ]
  },
  {
   "cell_type": "code",
   "execution_count": null,
   "id": "a8337931",
   "metadata": {},
   "outputs": [],
   "source": []
  },
  {
   "cell_type": "markdown",
   "id": "5f27f16e",
   "metadata": {},
   "source": [
    "#### Ejemplo 7\n",
    "\n",
    "Hacer una funcion que devuelva una lista que contenga la suma de los elementos de cada fila."
   ]
  },
  {
   "cell_type": "code",
   "execution_count": null,
   "id": "0ccbc955",
   "metadata": {},
   "outputs": [],
   "source": []
  },
  {
   "cell_type": "markdown",
   "id": "b244a4cd",
   "metadata": {},
   "source": [
    "#### Ejemplo 8\n",
    "\n",
    "Hacer una funcion que devuelva una lista que contenga la suma de los elementos de cada columna."
   ]
  },
  {
   "cell_type": "code",
   "execution_count": null,
   "id": "2e5681a5",
   "metadata": {},
   "outputs": [],
   "source": []
  },
  {
   "cell_type": "markdown",
   "id": "2438483e",
   "metadata": {},
   "source": [
    "#### Ejemplo 9\n",
    "\n",
    "Hacer una función que retorne una matriz como resultado de intercambiar dos filas."
   ]
  },
  {
   "cell_type": "code",
   "execution_count": null,
   "id": "aae6f6a6",
   "metadata": {},
   "outputs": [],
   "source": []
  },
  {
   "cell_type": "markdown",
   "id": "b1c258a7",
   "metadata": {},
   "source": [
    "#### Ejemplo 10\n",
    "\n",
    "Hacer una función que retorne una matriz como resultado de intercambiar dos columnas."
   ]
  },
  {
   "cell_type": "code",
   "execution_count": null,
   "id": "a9eb1978",
   "metadata": {},
   "outputs": [],
   "source": []
  },
  {
   "cell_type": "markdown",
   "id": "3f0c5f65",
   "metadata": {},
   "source": [
    "#### Ejemplo 11\n",
    "\n",
    "Hacer una función que retorne la transpuesta de una matriz"
   ]
  },
  {
   "cell_type": "code",
   "execution_count": null,
   "id": "ce35bec2",
   "metadata": {},
   "outputs": [],
   "source": []
  }
 ],
 "metadata": {
  "kernelspec": {
   "display_name": "Python 3",
   "language": "python",
   "name": "python3"
  },
  "language_info": {
   "codemirror_mode": {
    "name": "ipython",
    "version": 3
   },
   "file_extension": ".py",
   "mimetype": "text/x-python",
   "name": "python",
   "nbconvert_exporter": "python",
   "pygments_lexer": "ipython3",
   "version": "3.8.8"
  }
 },
 "nbformat": 4,
 "nbformat_minor": 5
}
